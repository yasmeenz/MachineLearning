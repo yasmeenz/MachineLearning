{
 "cells": [
  {
   "cell_type": "code",
   "execution_count": 35,
   "metadata": {
    "collapsed": false,
    "nbpresent": {
     "id": "a31291c1-7ad0-4ca5-82f8-1b5b8f9048d2"
    }
   },
   "outputs": [],
   "source": [
    "import numpy as np\n",
    "import pandas as pd\n",
    "from sklearn.cluster import KMeans\n"
   ]
  },
  {
   "cell_type": "code",
   "execution_count": 37,
   "metadata": {
    "collapsed": false,
    "nbpresent": {
     "id": "97e198a1-ce71-4a77-937b-2d7332087216"
    }
   },
   "outputs": [
    {
     "name": "stdout",
     "output_type": "stream",
     "text": [
      "    Driver_ID  Distance_Feature  Speeding_Feature\n",
      "0  3423311935             71.24              28.0\n",
      "1  3423313212             52.53              25.0\n",
      "2  3423313724             64.54              27.0\n",
      "3  3423311373             55.69              22.0\n",
      "4  3423310999             54.58              25.0\n",
      "Driver_ID             int64\n",
      "Distance_Feature    float64\n",
      "Speeding_Feature    float64\n",
      "dtype: object\n",
      "          Driver_ID  Distance_Feature  Speeding_Feature\n",
      "count  4.000000e+03       4000.000000       4000.000000\n",
      "mean   3.423312e+09         76.041523         10.721000\n",
      "std    1.154845e+03         53.469563         13.708543\n",
      "min    3.423310e+09         15.520000          0.000000\n",
      "25%    3.423311e+09         45.247500          4.000000\n",
      "50%    3.423312e+09         53.330000          6.000000\n",
      "75%    3.423313e+09         65.632500          9.000000\n",
      "max    3.423314e+09        244.790000        100.000000\n"
     ]
    }
   ],
   "source": [
    "#Load data\n",
    "df=pd.read_csv('data_1024.csv',sep='\\t')\n",
    "print(df.head())\n",
    "print(df.dtypes)\n",
    "print(df.describe())\n"
   ]
  },
  {
   "cell_type": "code",
   "execution_count": 38,
   "metadata": {
    "collapsed": false,
    "nbpresent": {
     "id": "013768f6-f2db-47f5-97f2-adb6ebe40cbc"
    }
   },
   "outputs": [],
   "source": [
    "### For the purposes of this example, we store feature data from our\n",
    "### dataframe `df`, in the `f1` and `f2` arrays. We combine this into\n",
    "### a feature matrix `X` before entering it into the algorithm.\n",
    "f1 = df['Distance_Feature'].values\n",
    "f2 = df['Speeding_Feature'].values\n",
    "\n"
   ]
  },
  {
   "cell_type": "code",
   "execution_count": 39,
   "metadata": {
    "collapsed": false,
    "nbpresent": {
     "id": "d5d3f31c-1317-44be-9ef2-389975fe8912"
    }
   },
   "outputs": [],
   "source": [
    "X=np.matrix(df['Distance_Feature'],df['Speeding_Feature'])"
   ]
  },
  {
   "cell_type": "code",
   "execution_count": 40,
   "metadata": {
    "collapsed": false,
    "nbpresent": {
     "id": "8f2f502f-430b-4038-bffa-c6a43de30e27"
    }
   },
   "outputs": [
    {
     "ename": "ValueError",
     "evalue": "n_samples=1 should be >= n_clusters=2",
     "output_type": "error",
     "traceback": [
      "\u001b[1;31m---------------------------------------------------------------------------\u001b[0m",
      "\u001b[1;31mValueError\u001b[0m                                Traceback (most recent call last)",
      "\u001b[1;32m<ipython-input-40-65b7994b76e6>\u001b[0m in \u001b[0;36m<module>\u001b[1;34m()\u001b[0m\n\u001b[1;32m----> 1\u001b[1;33m \u001b[0mkmeans\u001b[0m \u001b[1;33m=\u001b[0m \u001b[0mKMeans\u001b[0m\u001b[1;33m(\u001b[0m\u001b[0mn_clusters\u001b[0m\u001b[1;33m=\u001b[0m\u001b[1;36m2\u001b[0m\u001b[1;33m)\u001b[0m\u001b[1;33m.\u001b[0m\u001b[0mfit\u001b[0m\u001b[1;33m(\u001b[0m\u001b[0mX\u001b[0m\u001b[1;33m)\u001b[0m\u001b[1;33m\u001b[0m\u001b[0m\n\u001b[0m",
      "\u001b[1;32mC:\\Users\\RR\\Anaconda3\\lib\\site-packages\\sklearn\\cluster\\k_means_.py\u001b[0m in \u001b[0;36mfit\u001b[1;34m(self, X, y)\u001b[0m\n\u001b[0;32m    810\u001b[0m         \"\"\"\n\u001b[0;32m    811\u001b[0m         \u001b[0mrandom_state\u001b[0m \u001b[1;33m=\u001b[0m \u001b[0mcheck_random_state\u001b[0m\u001b[1;33m(\u001b[0m\u001b[0mself\u001b[0m\u001b[1;33m.\u001b[0m\u001b[0mrandom_state\u001b[0m\u001b[1;33m)\u001b[0m\u001b[1;33m\u001b[0m\u001b[0m\n\u001b[1;32m--> 812\u001b[1;33m         \u001b[0mX\u001b[0m \u001b[1;33m=\u001b[0m \u001b[0mself\u001b[0m\u001b[1;33m.\u001b[0m\u001b[0m_check_fit_data\u001b[0m\u001b[1;33m(\u001b[0m\u001b[0mX\u001b[0m\u001b[1;33m)\u001b[0m\u001b[1;33m\u001b[0m\u001b[0m\n\u001b[0m\u001b[0;32m    813\u001b[0m \u001b[1;33m\u001b[0m\u001b[0m\n\u001b[0;32m    814\u001b[0m         \u001b[0mself\u001b[0m\u001b[1;33m.\u001b[0m\u001b[0mcluster_centers_\u001b[0m\u001b[1;33m,\u001b[0m \u001b[0mself\u001b[0m\u001b[1;33m.\u001b[0m\u001b[0mlabels_\u001b[0m\u001b[1;33m,\u001b[0m \u001b[0mself\u001b[0m\u001b[1;33m.\u001b[0m\u001b[0minertia_\u001b[0m\u001b[1;33m,\u001b[0m \u001b[0mself\u001b[0m\u001b[1;33m.\u001b[0m\u001b[0mn_iter_\u001b[0m \u001b[1;33m=\u001b[0m\u001b[0;31m \u001b[0m\u001b[0;31m\\\u001b[0m\u001b[1;33m\u001b[0m\u001b[0m\n",
      "\u001b[1;32mC:\\Users\\RR\\Anaconda3\\lib\\site-packages\\sklearn\\cluster\\k_means_.py\u001b[0m in \u001b[0;36m_check_fit_data\u001b[1;34m(self, X)\u001b[0m\n\u001b[0;32m    787\u001b[0m         \u001b[1;32mif\u001b[0m \u001b[0mX\u001b[0m\u001b[1;33m.\u001b[0m\u001b[0mshape\u001b[0m\u001b[1;33m[\u001b[0m\u001b[1;36m0\u001b[0m\u001b[1;33m]\u001b[0m \u001b[1;33m<\u001b[0m \u001b[0mself\u001b[0m\u001b[1;33m.\u001b[0m\u001b[0mn_clusters\u001b[0m\u001b[1;33m:\u001b[0m\u001b[1;33m\u001b[0m\u001b[0m\n\u001b[0;32m    788\u001b[0m             raise ValueError(\"n_samples=%d should be >= n_clusters=%d\" % (\n\u001b[1;32m--> 789\u001b[1;33m                 X.shape[0], self.n_clusters))\n\u001b[0m\u001b[0;32m    790\u001b[0m         \u001b[1;32mreturn\u001b[0m \u001b[0mX\u001b[0m\u001b[1;33m\u001b[0m\u001b[0m\n\u001b[0;32m    791\u001b[0m \u001b[1;33m\u001b[0m\u001b[0m\n",
      "\u001b[1;31mValueError\u001b[0m: n_samples=1 should be >= n_clusters=2"
     ]
    }
   ],
   "source": [
    "kmeans = KMeans(n_clusters=2).fit(X)"
   ]
  },
  {
   "cell_type": "code",
   "execution_count": null,
   "metadata": {
    "collapsed": true,
    "nbpresent": {
     "id": "12c73237-9fff-47fc-b094-4c905cfa4852"
    }
   },
   "outputs": [],
   "source": []
  }
 ],
 "metadata": {
  "anaconda-cloud": {},
  "kernelspec": {
   "display_name": "Python [Root]",
   "language": "python",
   "name": "Python [Root]"
  },
  "language_info": {
   "codemirror_mode": {
    "name": "ipython",
    "version": 3
   },
   "file_extension": ".py",
   "mimetype": "text/x-python",
   "name": "python",
   "nbconvert_exporter": "python",
   "pygments_lexer": "ipython3",
   "version": "3.5.1"
  },
  "nbpresent": {
   "slides": {
    "3fa64f24-d10f-4be3-a7c2-44a46c62c62e": {
     "id": "3fa64f24-d10f-4be3-a7c2-44a46c62c62e",
     "prev": "d0c4818f-d6c8-4b62-bd56-d919d97a8cfc",
     "regions": {
      "e90f2337-85b5-4d85-96fe-140f92dcfb1c": {
       "attrs": {
        "height": 0.8,
        "width": 0.8,
        "x": 0.1,
        "y": 0.1
       },
       "content": {
        "cell": "12c73237-9fff-47fc-b094-4c905cfa4852",
        "part": "whole"
       },
       "id": "e90f2337-85b5-4d85-96fe-140f92dcfb1c"
      }
     }
    },
    "474846d1-5efb-4045-9ed3-2fa0ccf1918d": {
     "id": "474846d1-5efb-4045-9ed3-2fa0ccf1918d",
     "prev": "6804bc16-db47-4d49-92c9-436ae19b40a6",
     "regions": {
      "d8ff4337-9648-4924-a5bb-0d73801306c3": {
       "attrs": {
        "height": 0.8,
        "width": 0.8,
        "x": 0.1,
        "y": 0.1
       },
       "content": {
        "cell": "97e198a1-ce71-4a77-937b-2d7332087216",
        "part": "whole"
       },
       "id": "d8ff4337-9648-4924-a5bb-0d73801306c3"
      }
     }
    },
    "4d894d03-39ed-4ec5-957c-9966d7a8218a": {
     "id": "4d894d03-39ed-4ec5-957c-9966d7a8218a",
     "prev": "474846d1-5efb-4045-9ed3-2fa0ccf1918d",
     "regions": {
      "122209fc-9465-401e-a69d-9285214a0658": {
       "attrs": {
        "height": 0.8,
        "width": 0.8,
        "x": 0.1,
        "y": 0.1
       },
       "content": {
        "cell": "013768f6-f2db-47f5-97f2-adb6ebe40cbc",
        "part": "whole"
       },
       "id": "122209fc-9465-401e-a69d-9285214a0658"
      }
     }
    },
    "6804bc16-db47-4d49-92c9-436ae19b40a6": {
     "id": "6804bc16-db47-4d49-92c9-436ae19b40a6",
     "prev": null,
     "regions": {
      "baa8b73b-10fa-4871-866d-2aa4b05d2a9c": {
       "attrs": {
        "height": 0.8,
        "width": 0.8,
        "x": 0.1,
        "y": 0.1
       },
       "content": {
        "cell": "a31291c1-7ad0-4ca5-82f8-1b5b8f9048d2",
        "part": "whole"
       },
       "id": "baa8b73b-10fa-4871-866d-2aa4b05d2a9c"
      }
     }
    },
    "d0c4818f-d6c8-4b62-bd56-d919d97a8cfc": {
     "id": "d0c4818f-d6c8-4b62-bd56-d919d97a8cfc",
     "prev": "e61695a3-537f-48d9-98df-523ef5fb1f29",
     "regions": {
      "e02f9eb6-c057-48c9-805b-43ba707df3d2": {
       "attrs": {
        "height": 0.8,
        "width": 0.8,
        "x": 0.1,
        "y": 0.1
       },
       "content": {
        "cell": "8f2f502f-430b-4038-bffa-c6a43de30e27",
        "part": "whole"
       },
       "id": "e02f9eb6-c057-48c9-805b-43ba707df3d2"
      }
     }
    },
    "e61695a3-537f-48d9-98df-523ef5fb1f29": {
     "id": "e61695a3-537f-48d9-98df-523ef5fb1f29",
     "prev": "4d894d03-39ed-4ec5-957c-9966d7a8218a",
     "regions": {
      "861f2f3b-d173-4c56-8b3d-8c33a2b7500a": {
       "attrs": {
        "height": 0.8,
        "width": 0.8,
        "x": 0.1,
        "y": 0.1
       },
       "content": {
        "cell": "d5d3f31c-1317-44be-9ef2-389975fe8912",
        "part": "whole"
       },
       "id": "861f2f3b-d173-4c56-8b3d-8c33a2b7500a"
      }
     }
    }
   },
   "themes": {
    "default": "926fa05a-5f37-415e-9675-38d5a4fcd1a0",
    "theme": {
     "926fa05a-5f37-415e-9675-38d5a4fcd1a0": {
      "backgrounds": {
       "dc7afa04-bf90-40b1-82a5-726e3cff5267": {
        "background-color": "31af15d2-7e15-44c5-ab5e-e04b16a89eff",
        "id": "dc7afa04-bf90-40b1-82a5-726e3cff5267"
       }
      },
      "id": "926fa05a-5f37-415e-9675-38d5a4fcd1a0",
      "palette": {
       "19cc588f-0593-49c9-9f4b-e4d7cc113b1c": {
        "id": "19cc588f-0593-49c9-9f4b-e4d7cc113b1c",
        "rgb": [
         252,
         252,
         252
        ]
       },
       "31af15d2-7e15-44c5-ab5e-e04b16a89eff": {
        "id": "31af15d2-7e15-44c5-ab5e-e04b16a89eff",
        "rgb": [
         68,
         68,
         68
        ]
       },
       "50f92c45-a630-455b-aec3-788680ec7410": {
        "id": "50f92c45-a630-455b-aec3-788680ec7410",
        "rgb": [
         197,
         226,
         245
        ]
       },
       "c5cc3653-2ee1-402a-aba2-7caae1da4f6c": {
        "id": "c5cc3653-2ee1-402a-aba2-7caae1da4f6c",
        "rgb": [
         43,
         126,
         184
        ]
       },
       "efa7f048-9acb-414c-8b04-a26811511a21": {
        "id": "efa7f048-9acb-414c-8b04-a26811511a21",
        "rgb": [
         25.118061674008803,
         73.60176211453744,
         107.4819383259912
        ]
       }
      },
      "rules": {
       "a": {
        "color": "19cc588f-0593-49c9-9f4b-e4d7cc113b1c"
       },
       "blockquote": {
        "color": "50f92c45-a630-455b-aec3-788680ec7410",
        "font-size": 3
       },
       "code": {
        "font-family": "Anonymous Pro"
       },
       "h1": {
        "color": "19cc588f-0593-49c9-9f4b-e4d7cc113b1c",
        "font-family": "Merriweather",
        "font-size": 8
       },
       "h2": {
        "color": "19cc588f-0593-49c9-9f4b-e4d7cc113b1c",
        "font-family": "Merriweather",
        "font-size": 6
       },
       "h3": {
        "color": "50f92c45-a630-455b-aec3-788680ec7410",
        "font-family": "Lato",
        "font-size": 5.5
       },
       "h4": {
        "color": "c5cc3653-2ee1-402a-aba2-7caae1da4f6c",
        "font-family": "Lato",
        "font-size": 5
       },
       "h5": {
        "font-family": "Lato"
       },
       "h6": {
        "font-family": "Lato"
       },
       "h7": {
        "font-family": "Lato"
       },
       "li": {
        "color": "50f92c45-a630-455b-aec3-788680ec7410",
        "font-size": 3.25
       },
       "pre": {
        "font-family": "Anonymous Pro",
        "font-size": 4
       }
      },
      "text-base": {
       "color": "19cc588f-0593-49c9-9f4b-e4d7cc113b1c",
       "font-family": "Lato",
       "font-size": 4
      }
     }
    }
   }
  }
 },
 "nbformat": 4,
 "nbformat_minor": 0
}
